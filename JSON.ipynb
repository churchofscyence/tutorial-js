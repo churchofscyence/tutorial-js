{
 "cells": [
  {
   "cell_type": "markdown",
   "id": "f6c09ec3",
   "metadata": {},
   "source": [
    "### JSON.stringify()\n",
    "The JSON.stringify() static method converts a JavaScript value to a JSON string, optionally replacing values if \n",
    "a replacer function is specified or optionally including only the specified properties if a replacer array \n",
    "is specified."
   ]
  },
  {
   "cell_type": "code",
   "execution_count": 1,
   "id": "68dd284a",
   "metadata": {},
   "outputs": [
    {
     "name": "stdout",
     "output_type": "stream",
     "text": [
      "{\"x\":5,\"y\":6}\n",
      "[3,\"false\",false]\n",
      "{\"x\":[10,null,null,null]}\n",
      "\"2006-01-02T20:04:05.000Z\"\n"
     ]
    }
   ],
   "source": [
    "console.log(JSON.stringify({ x: 5, y: 6 }));\n",
    "// Expected output: '{\"x\":5,\"y\":6}'\n",
    "\n",
    "console.log(\n",
    "  JSON.stringify([new Number(3), new String('false'), new Boolean(false)]),\n",
    ");\n",
    "// Expected output: '[3,\"false\",false]'\n",
    "\n",
    "console.log(JSON.stringify({ x: [10, undefined, function () {}, Symbol('')] }));\n",
    "// Expected output: '{\"x\":[10,null,null,null]}'\n",
    "\n",
    "console.log(JSON.stringify(new Date(2006, 0, 2, 15, 4, 5)));\n",
    "// Expected output: '\"2006-01-02T15:04:05.000Z\"'"
   ]
  },
  {
   "cell_type": "markdown",
   "id": "9453aeae",
   "metadata": {},
   "source": [
    "### JSON.parse()\n",
    "The JSON.parse() static method parses a JSON string, constructing the JavaScript value or object described by the string. An optional reviver function can be provided to perform a transformation on the resulting object before it is returned."
   ]
  },
  {
   "cell_type": "code",
   "execution_count": 2,
   "id": "3e9d9a4e",
   "metadata": {},
   "outputs": [
    {
     "name": "stdout",
     "output_type": "stream",
     "text": [
      "42\n",
      "true\n"
     ]
    }
   ],
   "source": [
    "const json = '{\"result\":true, \"count\":42}';\n",
    "const obj = JSON.parse(json);\n",
    "\n",
    "console.log(obj.count);\n",
    "// Expected output: 42\n",
    "\n",
    "console.log(obj.result);\n",
    "// Expected output: true"
   ]
  },
  {
   "cell_type": "code",
   "execution_count": null,
   "id": "2bd50368",
   "metadata": {},
   "outputs": [],
   "source": []
  }
 ],
 "metadata": {
  "kernelspec": {
   "display_name": "JavaScript (Node.js)",
   "language": "javascript",
   "name": "javascript"
  },
  "language_info": {
   "file_extension": ".js",
   "mimetype": "application/javascript",
   "name": "javascript",
   "version": "18.12.1"
  }
 },
 "nbformat": 4,
 "nbformat_minor": 5
}
