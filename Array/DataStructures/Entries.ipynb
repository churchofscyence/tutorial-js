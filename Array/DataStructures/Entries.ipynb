{
 "cells": [
  {
   "cell_type": "markdown",
   "id": "1a5e3b4c",
   "metadata": {},
   "source": [
    "# Iteration Object"
   ]
  },
  {
   "cell_type": "code",
   "execution_count": 9,
   "id": "df5c44ec",
   "metadata": {},
   "outputs": [],
   "source": [
    "let Address;"
   ]
  },
  {
   "cell_type": "code",
   "execution_count": 10,
   "id": "aa391b77",
   "metadata": {},
   "outputs": [
    {
     "data": {
      "text/plain": [
       "{ firstName: 'Bill', lastName: 'Clinton' }"
      ]
     },
     "execution_count": 10,
     "metadata": {},
     "output_type": "execute_result"
    }
   ],
   "source": [
    "Address = {\n",
    "    firstName:\"Bill\",\n",
    "    lastName:\"Clinton\"\n",
    "}"
   ]
  },
  {
   "cell_type": "code",
   "execution_count": 12,
   "id": "010b07a4",
   "metadata": {},
   "outputs": [
    {
     "name": "stdout",
     "output_type": "stream",
     "text": [
      "firstName: Bill\n",
      "lastName: Clinton\n"
     ]
    }
   ],
   "source": [
    "for ( const [key, value] of Object.entries(Address) ) {\n",
    "  console.log(`${key}: ${value}`);\n",
    "}"
   ]
  },
  {
   "cell_type": "markdown",
   "id": "b399613f",
   "metadata": {},
   "source": [
    "# Iteration Array"
   ]
  },
  {
   "cell_type": "code",
   "execution_count": 4,
   "id": "0bb33ace",
   "metadata": {},
   "outputs": [],
   "source": [
    "let score;"
   ]
  },
  {
   "cell_type": "code",
   "execution_count": 6,
   "id": "2044bd7d",
   "metadata": {},
   "outputs": [
    {
     "data": {
      "text/plain": [
       "[ 70, 90, 40, 59 ]"
      ]
     },
     "execution_count": 6,
     "metadata": {},
     "output_type": "execute_result"
    }
   ],
   "source": [
    "score = [70,90,40,59]"
   ]
  },
  {
   "cell_type": "code",
   "execution_count": 14,
   "id": "1844958b",
   "metadata": {},
   "outputs": [
    {
     "name": "stdout",
     "output_type": "stream",
     "text": [
      "[ 0 ] =  70\n",
      "[ 1 ] =  90\n",
      "[ 2 ] =  40\n",
      "[ 3 ] =  59\n"
     ]
    }
   ],
   "source": [
    "for( const[index,element] of score.entries()){\n",
    "    console.log(`[ ${index} ] =  ${element}`);\n",
    "}"
   ]
  },
  {
   "cell_type": "code",
   "execution_count": null,
   "id": "45547867",
   "metadata": {},
   "outputs": [],
   "source": []
  }
 ],
 "metadata": {
  "kernelspec": {
   "display_name": "JavaScript (Node.js)",
   "language": "javascript",
   "name": "javascript"
  },
  "language_info": {
   "file_extension": ".js",
   "mimetype": "application/javascript",
   "name": "javascript",
   "version": "18.12.1"
  }
 },
 "nbformat": 4,
 "nbformat_minor": 5
}
