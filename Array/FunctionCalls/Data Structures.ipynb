{
 "cells": [
  {
   "cell_type": "markdown",
   "id": "ed2a87e6",
   "metadata": {},
   "source": [
    "The shift() method of Array instances removes the first element from an array and returns that removed element. This method changes the length of the array."
   ]
  },
  {
   "cell_type": "code",
   "execution_count": 1,
   "id": "d0ab009d",
   "metadata": {},
   "outputs": [
    {
     "name": "stdout",
     "output_type": "stream",
     "text": [
      "[ 2, 3 ]\n",
      "1\n"
     ]
    }
   ],
   "source": [
    "const array1 = [1, 2, 3];\n",
    "\n",
    "const firstElement = array1.shift();\n",
    "\n",
    "console.log(array1);\n",
    "// Expected output: Array [2, 3]\n",
    "\n",
    "console.log(firstElement);\n",
    "// Expected output: 1"
   ]
  },
  {
   "cell_type": "markdown",
   "id": "92dfa441",
   "metadata": {},
   "source": [
    "The unshift() method of Array instances adds the specified elements to the beginning of an array and returns the new length of the array."
   ]
  },
  {
   "cell_type": "code",
   "execution_count": 3,
   "id": "d8c6523c",
   "metadata": {},
   "outputs": [
    {
     "name": "stdout",
     "output_type": "stream",
     "text": [
      "5\n",
      "[ 4, 5, 1, 2, 3 ]\n"
     ]
    }
   ],
   "source": [
    "const array2 = [1, 2, 3];\n",
    "\n",
    "console.log(array2.unshift(4, 5));\n",
    "// Expected output: 5\n",
    "\n",
    "console.log(array2);\n",
    "// Expected output: Array [4, 5, 1, 2, 3]"
   ]
  },
  {
   "cell_type": "markdown",
   "id": "6e535922",
   "metadata": {},
   "source": [
    "The pop() method of Array instances removes the last element from an array and returns that element. This method changes the length of the array."
   ]
  },
  {
   "cell_type": "code",
   "execution_count": 4,
   "id": "2a8fcd93",
   "metadata": {},
   "outputs": [
    {
     "name": "stdout",
     "output_type": "stream",
     "text": [
      "tomato\n",
      "[ 'broccoli', 'cauliflower', 'cabbage', 'kale' ]\n",
      "[ 'broccoli', 'cauliflower', 'cabbage' ]\n"
     ]
    }
   ],
   "source": [
    "const plants = ['broccoli', 'cauliflower', 'cabbage', 'kale', 'tomato'];\n",
    "\n",
    "console.log(plants.pop());\n",
    "// Expected output: \"tomato\"\n",
    "\n",
    "console.log(plants);\n",
    "// Expected output: Array [\"broccoli\", \"cauliflower\", \"cabbage\", \"kale\"]\n",
    "\n",
    "plants.pop();\n",
    "\n",
    "console.log(plants);\n",
    "// Expected output: Array [\"broccoli\", \"cauliflower\", \"cabbage\"]\n"
   ]
  },
  {
   "cell_type": "markdown",
   "id": "5a20a279",
   "metadata": {},
   "source": [
    "The push() method of Array instances adds the specified elements to the end of an array and returns the new length of the array."
   ]
  },
  {
   "cell_type": "code",
   "execution_count": 5,
   "id": "e4f663ba",
   "metadata": {},
   "outputs": [
    {
     "name": "stdout",
     "output_type": "stream",
     "text": [
      "4\n",
      "[ 'pigs', 'goats', 'sheep', 'cows' ]\n",
      "[\n",
      "  'pigs',     'goats',\n",
      "  'sheep',    'cows',\n",
      "  'chickens', 'cats',\n",
      "  'dogs'\n",
      "]\n"
     ]
    }
   ],
   "source": [
    "const animals = ['pigs', 'goats', 'sheep'];\n",
    "\n",
    "const count = animals.push('cows');\n",
    "console.log(count);\n",
    "// Expected output: 4\n",
    "console.log(animals);\n",
    "// Expected output: Array [\"pigs\", \"goats\", \"sheep\", \"cows\"]\n",
    "\n",
    "animals.push('chickens', 'cats', 'dogs');\n",
    "console.log(animals);\n",
    "// Expected output: Array [\"pigs\", \"goats\", \"sheep\", \"cows\", \"chickens\", \"cats\", \"dogs\"]\n"
   ]
  },
  {
   "cell_type": "code",
   "execution_count": null,
   "id": "c016faf3",
   "metadata": {},
   "outputs": [],
   "source": []
  }
 ],
 "metadata": {
  "kernelspec": {
   "display_name": "JavaScript (Node.js)",
   "language": "javascript",
   "name": "javascript"
  },
  "language_info": {
   "file_extension": ".js",
   "mimetype": "application/javascript",
   "name": "javascript",
   "version": "18.12.1"
  }
 },
 "nbformat": 4,
 "nbformat_minor": 5
}
