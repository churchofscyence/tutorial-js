{
 "cells": [
  {
   "cell_type": "code",
   "execution_count": 1,
   "id": "3ee33d92",
   "metadata": {},
   "outputs": [],
   "source": [
    "var people;"
   ]
  },
  {
   "cell_type": "code",
   "execution_count": 2,
   "id": "3516f024",
   "metadata": {},
   "outputs": [
    {
     "data": {
      "text/plain": [
       "[ 'Tom', 'Jim' ]"
      ]
     },
     "execution_count": 2,
     "metadata": {},
     "output_type": "execute_result"
    }
   ],
   "source": [
    "people = [\"Tom\", \"Jim\"];"
   ]
  },
  {
   "cell_type": "code",
   "execution_count": 3,
   "id": "eaf67a92",
   "metadata": {},
   "outputs": [],
   "source": [
    "function name (firstName) { \n",
    "     return firstName + \"  \" + this.lastName; \n",
    "}"
   ]
  },
  {
   "cell_type": "code",
   "execution_count": 4,
   "id": "a5a04ac2",
   "metadata": {},
   "outputs": [
    {
     "name": "stdout",
     "output_type": "stream",
     "text": [
      "[ 'Tom  Smith', 'Jim  Smith' ]\n"
     ]
    }
   ],
   "source": [
    "var result = Array.from(people, name, { lastName: \"Smith\" } );\n",
    "\n",
    "console.log(result);"
   ]
  },
  {
   "cell_type": "code",
   "execution_count": null,
   "id": "0c866d3e",
   "metadata": {},
   "outputs": [],
   "source": []
  }
 ],
 "metadata": {
  "kernelspec": {
   "display_name": "JavaScript (Node.js)",
   "language": "javascript",
   "name": "javascript"
  },
  "language_info": {
   "file_extension": ".js",
   "mimetype": "application/javascript",
   "name": "javascript",
   "version": "18.12.1"
  }
 },
 "nbformat": 4,
 "nbformat_minor": 5
}
