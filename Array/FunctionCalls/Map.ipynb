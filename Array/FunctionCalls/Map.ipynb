{
 "cells": [
  {
   "cell_type": "markdown",
   "id": "75c8b40d",
   "metadata": {},
   "source": [
    "The map() method of Array instances creates a new array populated with the results of calling a provided function on every element in the calling array."
   ]
  },
  {
   "cell_type": "code",
   "execution_count": 1,
   "id": "8a149d3a",
   "metadata": {},
   "outputs": [],
   "source": [
    "var array1;\n",
    "var map1;"
   ]
  },
  {
   "cell_type": "code",
   "execution_count": 2,
   "id": "036ceb79",
   "metadata": {},
   "outputs": [
    {
     "name": "stdout",
     "output_type": "stream",
     "text": [
      "[ 1, 4, 9, 16 ]\n",
      "[ 2, 8, 18, 32 ]\n"
     ]
    }
   ],
   "source": [
    "array1 = [1, 4, 9, 16];\n",
    "\n",
    "// Pass a function to map\n",
    "map1 = array1.map((x) => x * 2);\n",
    "\n",
    "console.log(array1);\n",
    "console.log(map1);"
   ]
  },
  {
   "cell_type": "markdown",
   "id": "2b77fa87",
   "metadata": {},
   "source": [
    "Using **interest** array as times the **deposit** array for to calculate **interest paid**. (Does not work with Lambda Function)"
   ]
  },
  {
   "cell_type": "code",
   "execution_count": 3,
   "id": "2c174176",
   "metadata": {},
   "outputs": [],
   "source": [
    "var deposit;\n",
    "var result"
   ]
  },
  {
   "cell_type": "code",
   "execution_count": 4,
   "id": "2428f4f1",
   "metadata": {},
   "outputs": [
    {
     "name": "stdout",
     "output_type": "stream",
     "text": [
      "[ 11, 169.08, 52.65 ]\n"
     ]
    }
   ],
   "source": [
    "deposit = [10.00, 140.90, 40.50];\n",
    "\n",
    "function calculateInterest(money, index) {\n",
    "    return money * this.interest_rate[index];\n",
    "};\n",
    "\n",
    "result = deposit.map( calculateInterest, {interest_rate:[1.1, 1.2, 1.3]} );\n",
    "\n",
    "console.log( result );"
   ]
  },
  {
   "cell_type": "markdown",
   "id": "2d947cde",
   "metadata": {},
   "source": [
    "# Map Object"
   ]
  },
  {
   "cell_type": "markdown",
   "id": "0de5c69d",
   "metadata": {},
   "source": [
    "The Map object holds key-value pairs and remembers the original insertion order of the keys. Any value (both objects and primitive values) may be used as either a key or a value."
   ]
  },
  {
   "cell_type": "code",
   "execution_count": 5,
   "id": "e6123e37",
   "metadata": {},
   "outputs": [],
   "source": [
    "let personInfo;"
   ]
  },
  {
   "cell_type": "code",
   "execution_count": 6,
   "id": "e4bd8254",
   "metadata": {},
   "outputs": [
    {
     "data": {
      "text/plain": [
       "Map(0) {}"
      ]
     },
     "execution_count": 6,
     "metadata": {},
     "output_type": "execute_result"
    }
   ],
   "source": [
    "personInfo = new Map();"
   ]
  },
  {
   "cell_type": "code",
   "execution_count": 7,
   "id": "7963772d",
   "metadata": {},
   "outputs": [
    {
     "data": {
      "text/plain": [
       "Map(3) { 'age' => 31, 'firstName' => 'Tom', 'lastName' => 'Johnson' }"
      ]
     },
     "execution_count": 7,
     "metadata": {},
     "output_type": "execute_result"
    }
   ],
   "source": [
    "personInfo.set('age', 31);\n",
    "personInfo.set('firstName', 'Tom');\n",
    "personInfo.set('lastName', 'Johnson');"
   ]
  },
  {
   "cell_type": "code",
   "execution_count": 8,
   "id": "21f4b09f",
   "metadata": {},
   "outputs": [
    {
     "name": "stdout",
     "output_type": "stream",
     "text": [
      "31\n"
     ]
    }
   ],
   "source": [
    "console.log(personInfo.get('age'));"
   ]
  },
  {
   "cell_type": "code",
   "execution_count": 9,
   "id": "25b95949",
   "metadata": {},
   "outputs": [
    {
     "name": "stdout",
     "output_type": "stream",
     "text": [
      "3\n"
     ]
    }
   ],
   "source": [
    "console.log(personInfo.size);"
   ]
  },
  {
   "cell_type": "code",
   "execution_count": 10,
   "id": "38263878",
   "metadata": {},
   "outputs": [
    {
     "data": {
      "text/plain": [
       "true"
      ]
     },
     "execution_count": 10,
     "metadata": {},
     "output_type": "execute_result"
    }
   ],
   "source": [
    "personInfo.delete('lastName');"
   ]
  },
  {
   "cell_type": "code",
   "execution_count": 11,
   "id": "2ae7e6d5",
   "metadata": {},
   "outputs": [
    {
     "name": "stdout",
     "output_type": "stream",
     "text": [
      "2\n"
     ]
    }
   ],
   "source": [
    "console.log(personInfo.size);"
   ]
  },
  {
   "cell_type": "code",
   "execution_count": null,
   "id": "a7f2cf56",
   "metadata": {},
   "outputs": [],
   "source": []
  }
 ],
 "metadata": {
  "kernelspec": {
   "display_name": "JavaScript (Node.js)",
   "language": "javascript",
   "name": "javascript"
  },
  "language_info": {
   "file_extension": ".js",
   "mimetype": "application/javascript",
   "name": "javascript",
   "version": "20.11.1"
  }
 },
 "nbformat": 4,
 "nbformat_minor": 5
}
