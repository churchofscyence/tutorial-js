{
 "cells": [
  {
   "cell_type": "code",
   "execution_count": null,
   "id": "71e92402",
   "metadata": {},
   "outputs": [],
   "source": [
    "let array1;\n",
    "let initialValue;\n",
    "\n",
    "let sumWithInitial;\n",
    "\n",
    "let result\n"
   ]
  },
  {
   "cell_type": "markdown",
   "id": "111b78db",
   "metadata": {},
   "source": [
    "The reduce() method of Array instances executes a user-supplied \"reducer\" callback function on each element of the array, in order, passing in the return value from the calculation on the preceding element. The final result of running the reducer across all elements of the array is a single value.\n",
    "\n",
    "The first time that the callback is run there is no \"return value of the previous calculation\". If supplied, an initial value may be used in its place. Otherwise the array element at index 0 is used as the initial value and iteration starts from the next element (index 1 instead of index 0)."
   ]
  },
  {
   "cell_type": "code",
   "execution_count": 2,
   "id": "b48a59df",
   "metadata": {},
   "outputs": [
    {
     "name": "stdout",
     "output_type": "stream",
     "text": [
      "10\n"
     ]
    }
   ],
   "source": [
    "array1 = [1, 2, 3, 4];\n",
    "\n",
    "// 0 + 1 + 2 + 3 + 4\n",
    "initialValue = 0;\n",
    "\n",
    "sumWithInitial = array1.reduce((accumulator, currentValue) => accumulator + currentValue,  initialValue);\n",
    "\n",
    "console.log(sumWithInitial);\n",
    "// Expected output: 10"
   ]
  },
  {
   "cell_type": "code",
   "execution_count": 3,
   "id": "dc06159d",
   "metadata": {},
   "outputs": [
    {
     "name": "stdout",
     "output_type": "stream",
     "text": [
      "[ 0, 1, 2, 3, 4, 5 ]\n"
     ]
    }
   ],
   "source": [
    "array1 = [\n",
    "    [0, 1], [2, 3], [4, 5],\n",
    "];\n",
    "result = array1.reduce( ( accumulator, currentValue) => accumulator.concat(currentValue) );\n",
    "\n",
    "console.log(result);\n",
    "// Expected output: Array [ 0, 1, 2, 3, 4, 5 ]"
   ]
  },
  {
   "cell_type": "markdown",
   "id": "ae563b09",
   "metadata": {},
   "source": [
    "The reduceRight() method of Array instances applies a function against an accumulator and each value of the array (from right-to-left) to reduce it to a single value."
   ]
  },
  {
   "cell_type": "code",
   "execution_count": 4,
   "id": "5de80cc0",
   "metadata": {},
   "outputs": [
    {
     "name": "stdout",
     "output_type": "stream",
     "text": [
      "[ 4, 5, 2, 3, 0, 1 ]\n"
     ]
    }
   ],
   "source": [
    "array1 = [\n",
    "    [0, 1], [2, 3], [4, 5],\n",
    "];\n",
    "\n",
    "result = array1.reduceRight( (accumulator, currentValue) =>accumulator.concat(currentValue) );\n",
    "\n",
    "console.log(result);\n",
    "// Expected output: Array [4, 5, 2, 3, 0, 1]"
   ]
  },
  {
   "cell_type": "code",
   "execution_count": null,
   "id": "838ffa1b",
   "metadata": {},
   "outputs": [],
   "source": []
  }
 ],
 "metadata": {
  "kernelspec": {
   "display_name": "JavaScript (Node.js)",
   "language": "javascript",
   "name": "javascript"
  },
  "language_info": {
   "file_extension": ".js",
   "mimetype": "application/javascript",
   "name": "javascript",
   "version": "18.12.1"
  }
 },
 "nbformat": 4,
 "nbformat_minor": 5
}
